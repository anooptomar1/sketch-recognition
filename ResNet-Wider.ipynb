{
 "cells": [
  {
   "cell_type": "code",
   "execution_count": 1,
   "metadata": {
    "collapsed": false
   },
   "outputs": [],
   "source": [
    "from __future__ import division\n",
    "\n",
    "import datautils\n",
    "import numpy as np\n",
    "import matplotlib.pyplot as plt\n",
    "import time\n",
    "import tensorflow as tf\n",
    "import math\n",
    "import models\n",
    "\n",
    "%matplotlib inline\n",
    "plt.rcParams['figure.figsize'] = (5.0, 5.0) # set default size of plots\n",
    "plt.rcParams['image.interpolation'] = 'nearest'\n",
    "plt.rcParams['image.cmap'] = 'gray'\n",
    "\n",
    "%load_ext autoreload\n",
    "%autoreload 2"
   ]
  },
  {
   "cell_type": "code",
   "execution_count": 2,
   "metadata": {
    "collapsed": false
   },
   "outputs": [
    {
     "name": "stdout",
     "output_type": "stream",
     "text": [
      "Read 32000 images in 7.00267 seconds\n",
      "X_train:  (24000, 128, 128, 1)\n",
      "y_train:  (24000,)\n",
      "X_val:  (4000, 128, 128, 1)\n",
      "y_val:  (4000,)\n",
      "X_test:  (4000, 128, 128, 1)\n",
      "y_test:  (4000,)\n"
     ]
    }
   ],
   "source": [
    "# Read in the data\n",
    "num_classes = 250 #250\n",
    "res = 128\n",
    "\n",
    "tic = time.clock()\n",
    "X_train, y_train, X_val, y_val, X_test, y_test, labels = datautils.get_data(num_classes=num_classes, res=128, flip=True)\n",
    "toc = time.clock()\n",
    "print (\"Read {} images in {:5g} seconds\".format(X_train.shape[0] + X_val.shape[0] + X_test.shape[0], toc - tic))\n",
    "print (\"X_train: \", X_train.shape)\n",
    "print (\"y_train: \", y_train.shape)\n",
    "print (\"X_val: \", X_val.shape)\n",
    "print (\"y_val: \", y_val.shape)\n",
    "print (\"X_test: \", X_test.shape)\n",
    "print (\"y_test: \", y_test.shape)"
   ]
  },
  {
   "cell_type": "code",
   "execution_count": 3,
   "metadata": {
    "collapsed": false
   },
   "outputs": [
    {
     "data": {
      "image/png": "[encoded data removed]",
      "text/plain": [
       "<matplotlib.figure.Figure at 0x7f14899d22e8>"
      ]
     },
     "metadata": {},
     "output_type": "display_data"
    },
    {
     "name": "stdout",
     "output_type": "stream",
     "text": [
      "chandelier\n"
     ]
    }
   ],
   "source": [
    "# Plot a random image\n",
    "sample = np.random.randint(X_train.shape[0])\n",
    "plt.imshow(X_train[sample].reshape(128, 128))\n",
    "plt.show()\n",
    "print (labels[y_train[sample]])"
   ]
  },
  {
   "cell_type": "code",
   "execution_count": 4,
   "metadata": {
    "collapsed": false
   },
   "outputs": [
    {
     "name": "stdout",
     "output_type": "stream",
     "text": [
      "(?, 250)\n"
     ]
    }
   ],
   "source": [
    "tf.reset_default_graph()\n",
    "\n",
    "reg_val = 1e0\n",
    "learning_rate = 1e-3\n",
    "dr = 0.5\n",
    "\n",
    "X = tf.placeholder(tf.float32, [None, res, res, 1])\n",
    "y = tf.placeholder(tf.int64, [None])\n",
    "is_training = tf.placeholder(tf.bool)\n",
    "lr = tf.placeholder(tf.float32)\n",
    "reg = tf.placeholder(tf.float32)\n",
    "dropout_rate = tf.placeholder(tf.float32)\n",
    "\n",
    "y_out = models.resnet_widish(X, y, \n",
    "                           layer_depth=2, \n",
    "                           num_classes=num_classes, \n",
    "                           is_training=is_training, \n",
    "                           reg=reg,\n",
    "                           dropout=dropout_rate)\n",
    "print (y_out.shape)\n",
    "mean_loss = tf.reduce_mean(tf.nn.softmax_cross_entropy_with_logits(labels=tf.one_hot(y, num_classes), logits=y_out))\n",
    "optimizer = tf.train.AdamOptimizer(learning_rate=lr)\n",
    "\n",
    "# batch normalization in tensorflow requires this extra dependency\n",
    "extra_update_ops = tf.get_collection(tf.GraphKeys.UPDATE_OPS)\n",
    "with tf.control_dependencies(extra_update_ops):\n",
    "    train_step = optimizer.minimize(mean_loss)"
   ]
  },
  {
   "cell_type": "code",
   "execution_count": 5,
   "metadata": {
    "collapsed": true
   },
   "outputs": [],
   "source": [
    "def run_model(session, predict, loss_val, Xd, yd,\n",
    "              epochs=1, batch_size=64, print_every=100,\n",
    "              training=None, plot_losses=False):\n",
    "    # have tensorflow compute accuracy\n",
    "    correct_prediction = tf.equal(tf.argmax(predict,1), y)\n",
    "    accuracy = tf.reduce_mean(tf.cast(correct_prediction, tf.float32))\n",
    "    \n",
    "    # shuffle indicies\n",
    "    train_indicies = np.arange(Xd.shape[0])\n",
    "    np.random.shuffle(train_indicies)\n",
    "\n",
    "    training_now = training is not None\n",
    "    \n",
    "    # setting up variables we want to compute (and optimizing)\n",
    "    # if we have a training function, add that to things we compute\n",
    "    variables = [mean_loss,correct_prediction,accuracy]\n",
    "    if training_now:\n",
    "        variables[-1] = training\n",
    "    \n",
    "    # counter \n",
    "    iter_cnt = 0\n",
    "    for e in range(epochs):\n",
    "                # keep track of losses and accuracy\n",
    "        correct = 0\n",
    "        losses = []\n",
    "        # make sure we iterate over the dataset once\n",
    "        for i in range(int(math.ceil(Xd.shape[0]/batch_size))):\n",
    "                        # generate indicies for the batch\n",
    "            start_idx = (i*batch_size)%Xd.shape[0]\n",
    "            idx = train_indicies[start_idx:start_idx+batch_size]\n",
    "            \n",
    "            # create a feed dictionary for this batch\n",
    "            feed_dict = {X: Xd[idx,:], \n",
    "                         y: yd[idx], \n",
    "                         is_training:training_now,\n",
    "                         lr : learning_rate, \n",
    "                         reg: reg_val,\n",
    "                         dropout_rate: dr}\n",
    "                        \n",
    "                        \n",
    "            # get batch size\n",
    "            actual_batch_size = yd[i:i+batch_size].shape[0]\n",
    "            \n",
    "            # have tensorflow compute loss and correct predictions\n",
    "            # and (if given) perform a training step\n",
    "            loss, corr, _ = session.run(variables,feed_dict=feed_dict)\n",
    "            \n",
    "            # aggregate performance stats\n",
    "            losses.append(loss*actual_batch_size)\n",
    "            correct += np.sum(corr)\n",
    "            \n",
    "            # print every now and then\n",
    "            if training_now and (iter_cnt % print_every) == 0:\n",
    "                print(\"Iteration {0}: with minibatch training loss = {1:.3g} and accuracy of {2:.2g}\"\\\n",
    "                                                              .format(iter_cnt,loss,np.sum(corr)/actual_batch_size))\n",
    "            iter_cnt += 1\n",
    "        total_correct = correct/Xd.shape[0]\n",
    "        total_loss = np.sum(losses)/Xd.shape[0]\n",
    "        print(\"Epoch {2}, Overall loss = {0:.3g} and accuracy of {1:.3g}\"\\\n",
    "                              .format(total_loss,total_correct,e+1))\n",
    "        if plot_losses:\n",
    "            plt.plot(losses)\n",
    "            plt.grid(True)\n",
    "            plt.title('Epoch {} Loss'.format(e+1))\n",
    "            plt.xlabel('minibatch number')\n",
    "            plt.ylabel('minibatch loss')\n",
    "            plt.show()\n",
    "    return total_loss,total_correct"
   ]
  },
  {
   "cell_type": "code",
   "execution_count": 6,
   "metadata": {
    "collapsed": false
   },
   "outputs": [],
   "source": [
    "sess = tf.Session()\n",
    "sess.run(tf.global_variables_initializer())\n",
    "train_losses = []\n",
    "train_acc = []\n",
    "val_losses = []\n",
    "val_acc = []\n",
    "saver = tf.train.Saver(max_to_keep=None)\n",
    "model_name = \"resnet-widish\""
   ]
  },
  {
   "cell_type": "code",
   "execution_count": 7,
   "metadata": {
    "collapsed": false
   },
   "outputs": [
    {
     "name": "stdout",
     "output_type": "stream",
     "text": [
      "[0.0185, 0.19625, 0.2905, 0.31475, 0.368, 0.45725, 0.4885, 0.4805, 0.26725, 0.54125, 0.5565, 0.54675, 0.51325, 0.56075, 0.5725, 0.62125, 0.62275, 0.6255, 0.621, 0.6205]\n",
      "Best epoch: 18, 0.6255\n",
      "Restoring resnet-widish-18\n",
      "Epoch 1, Overall loss = 1.78 and accuracy of 0.623\n",
      "Test accuracy: 0.623, loss: 1.7795145149230958\n"
     ]
    }
   ],
   "source": [
    "with open(\"./checkpoints/{}.txt\".format(model_name)) as logs:\n",
    "    train_losses = [ float(val) for val in logs.readline().split()[:20] ]\n",
    "    val_losses = [ float(val) for val in logs.readline().split()[:20] ]\n",
    "    train_acc = [ float(val) for val in logs.readline().split()[:20] ]\n",
    "    val_acc = [ float(val) for val in logs.readline().split()[:20] ]\n",
    "\n",
    "print(val_acc)\n",
    "best_epoch = np.argmax(val_acc) + 1\n",
    "print(\"Best epoch: {}, {}\".format(best_epoch, val_acc[best_epoch - 1]))\n",
    "\n",
    "saver.restore(sess, \"./checkpoints/{}-{}\".format(model_name, best_epoch))\n",
    "print(\"Restoring {}-{}\".format(model_name, best_epoch))\n",
    "\n",
    "test_loss, test_acc = run_model(session=sess,\n",
    "                                 predict=y_out,\n",
    "                                 loss_val=mean_loss,\n",
    "                                 Xd=X_test,\n",
    "                                 yd=y_test,\n",
    "                                 epochs=1,\n",
    "                                 batch_size=64,\n",
    "                                 print_every=10000,\n",
    "                                 training=None,\n",
    "                                 plot_losses=False)\n",
    "print(\"Test accuracy: {}, loss: {}\".format(test_acc, test_loss))"
   ]
  },
  {
   "cell_type": "code",
   "execution_count": null,
   "metadata": {
    "collapsed": false
   },
   "outputs": [],
   "source": [
    "with open(\"./checkpoints/{}.txt\".format(model_name)) as logs:\n",
    "    train_losses = [ float(val) for val in logs.readline().split()[:15] ]\n",
    "    val_losses = [ float(val) for val in logs.readline().split()[:15] ]\n",
    "    train_acc = [ float(val) for val in logs.readline().split()[:15] ]\n",
    "    val_acc = [ float(val) for val in logs.readline().split()[:15] ]\n",
    "\n",
    "saver.restore(sess, \"./checkpoints/{}-{}\".format(model_name, len(val_acc)))\n",
    "print(\"Restoring {}-{}\".format(model_name, len(val_acc)))"
   ]
  },
  {
   "cell_type": "code",
   "execution_count": null,
   "metadata": {
    "collapsed": false,
    "scrolled": false
   },
   "outputs": [],
   "source": [
    "epochs = 5\n",
    "reg_val = 1e0\n",
    "learning_rate = 1e-4\n",
    "for i in range(epochs):\n",
    "    loss, acc = run_model(session=sess,\n",
    "                                 predict=y_out,\n",
    "                                 loss_val=mean_loss,\n",
    "                                 Xd=X_train,\n",
    "                                 yd=y_train,\n",
    "                                 epochs=1,\n",
    "                                 batch_size=64,\n",
    "                                 print_every=50,\n",
    "                                 training=train_step,\n",
    "                                 plot_losses=False)\n",
    "    train_losses.append(loss)\n",
    "    train_acc.append(acc)\n",
    "    loss, acc = run_model(session=sess,\n",
    "                                 predict=y_out,\n",
    "                                 loss_val=mean_loss,\n",
    "                                 Xd=X_val,\n",
    "                                 yd=y_val,\n",
    "                                 epochs=1,\n",
    "                                 batch_size=64,\n",
    "                                 print_every=10000,\n",
    "                                 training=None,\n",
    "                                 plot_losses=False)\n",
    "    val_losses.append(loss)\n",
    "    val_acc.append(acc)\n",
    "    saver.save(sess, \"./checkpoints/\" + model_name, global_step=len(val_acc), latest_filename=model_name + \".chkpts\")\n",
    "    f = open(\"./checkpoints/\" + model_name + \".txt\", 'w')\n",
    "    f.write(\" \".join([str(num) for num in train_losses]) + \"\\n\")\n",
    "    f.write(\" \".join([str(num) for num in val_losses]) + \"\\n\")\n",
    "    f.write(\" \".join([str(num) for num in train_acc]) + \"\\n\")\n",
    "    f.write(\" \".join([str(num) for num in val_acc]) + \"\\n\")\n",
    "    f.close()"
   ]
  },
  {
   "cell_type": "code",
   "execution_count": null,
   "metadata": {
    "collapsed": false
   },
   "outputs": [],
   "source": [
    "plt.plot(np.arange(1, len(train_losses) + 1), train_losses, label='Train')\n",
    "plt.plot(np.arange(1, len(train_losses) + 1), val_losses, label='Val')\n",
    "plt.grid(True)\n",
    "plt.axis((0, 20, 0, 10))\n",
    "plt.xticks( np.arange(0, 21, 2) )\n",
    "plt.title('Loss')\n",
    "plt.xlabel('Epoch')\n",
    "plt.ylabel('Loss')\n",
    "plt.legend()\n",
    "plt.show()\n",
    "\n",
    "plt.plot(np.arange(1, len(train_losses) + 1), train_acc, label='Train')\n",
    "plt.plot(np.arange(1, len(train_losses) + 1), val_acc, label='Val')\n",
    "plt.grid(True)\n",
    "plt.axis((0, 20, 0, 1))\n",
    "plt.xticks( np.arange(0, 21, 2) )\n",
    "plt.title('Accuracy')\n",
    "plt.xlabel('Epoch')\n",
    "plt.ylabel('Accuracy')\n",
    "plt.legend()\n",
    "plt.show()"
   ]
  },
  {
   "cell_type": "code",
   "execution_count": null,
   "metadata": {
    "collapsed": false
   },
   "outputs": [],
   "source": [
    "run_model(session=sess,\n",
    "            predict=y_out,\n",
    "            loss_val=mean_loss,\n",
    "            Xd=X_test,\n",
    "            yd=y_test,\n",
    "            epochs=1,\n",
    "            batch_size=64,\n",
    "            print_every=10000,\n",
    "            training=None,\n",
    "            plot_losses=False)"
   ]
  },
  {
   "cell_type": "code",
   "execution_count": null,
   "metadata": {
    "collapsed": true
   },
   "outputs": [],
   "source": [
    "sess.close()"
   ]
  },
  {
   "cell_type": "code",
   "execution_count": null,
   "metadata": {
    "collapsed": true
   },
   "outputs": [],
   "source": []
  }
 ],
 "metadata": {
  "kernelspec": {
   "display_name": "Python 3",
   "language": "python",
   "name": "python3"
  },
  "language_info": {
   "codemirror_mode": {
    "name": "ipython",
    "version": 3
   },
   "file_extension": ".py",
   "mimetype": "text/x-python",
   "name": "python",
   "nbconvert_exporter": "python",
   "pygments_lexer": "ipython3",
   "version": "3.5.2"
  }
 },
 "nbformat": 4,
 "nbformat_minor": 2
}
