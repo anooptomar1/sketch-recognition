{
 "cells": [
  {
   "cell_type": "code",
   "execution_count": 1,
   "metadata": {
    "collapsed": true
   },
   "outputs": [],
   "source": [
    "from __future__ import division\n",
    "\n",
    "import datautils\n",
    "import numpy as np\n",
    "import matplotlib.pyplot as plt\n",
    "import time\n",
    "import tensorflow as tf\n",
    "import math\n",
    "import models\n",
    "\n",
    "%matplotlib inline\n",
    "plt.rcParams['figure.figsize'] = (5.0, 5.0) # set default size of plots\n",
    "plt.rcParams['image.interpolation'] = 'nearest'\n",
    "plt.rcParams['image.cmap'] = 'gray'\n",
    "\n",
    "%load_ext autoreload\n",
    "%autoreload 2"
   ]
  },
  {
   "cell_type": "code",
   "execution_count": 12,
   "metadata": {
    "collapsed": false
   },
   "outputs": [
    {
     "name": "stdout",
     "output_type": "stream",
     "text": [
      "Read 20000 images in 9.37968 seconds\n",
      "X_train1:  (27000, 128, 128, 1)\n",
      "y_train1:  (27000,)\n",
      "X_test1:  (6500, 128, 128, 1)\n",
      "y_test1:  (6500,)\n",
      "X_train2:  (26500, 128, 128, 1)\n",
      "y_train2:  (26500,)\n",
      "X_test2:  (6750, 128, 128, 1)\n",
      "y_test2:  (6750,)\n",
      "X_train3:  (26500, 128, 128, 1)\n",
      "y_train3:  (26500,)\n",
      "X_test3:  (6750, 128, 128, 1)\n",
      "y_test3:  (6750,)\n"
     ]
    }
   ],
   "source": [
    "# Read in the data\n",
    "num_classes = 250 #250\n",
    "res = 128\n",
    "\n",
    "tic = time.clock()\n",
    "set1, set2, set3, labels = datautils.get_cross_val_data(num_classes=num_classes, res=128, flip=True)\n",
    "X_train1, y_train1, X_test1, y_test1 = set1\n",
    "X_train2, y_train2, X_test2, y_test2 = set2\n",
    "X_train3, y_train3, X_test3, y_test3 = set3\n",
    "toc = time.clock()\n",
    "print (\"Read {} images in {:5g} seconds\".format(X_test1.shape[0] + X_test2.shape[0] + X_test3.shape[0], toc - tic))\n",
    "print (\"X_train1: \", X_train1.shape)\n",
    "print (\"y_train1: \", y_train1.shape)\n",
    "print (\"X_test1: \", X_test1.shape)\n",
    "print (\"y_test1: \", y_test1.shape)\n",
    "\n",
    "print (\"X_train2: \", X_train2.shape)\n",
    "print (\"y_train2: \", y_train2.shape)\n",
    "print (\"X_test2: \", X_test2.shape)\n",
    "print (\"y_test2: \", y_test2.shape)\n",
    "\n",
    "print (\"X_train3: \", X_train3.shape)\n",
    "print (\"y_train3: \", y_train3.shape)\n",
    "print (\"X_test3: \", X_test3.shape)\n",
    "print (\"y_test3: \", y_test3.shape)"
   ]
  },
  {
   "cell_type": "code",
   "execution_count": 16,
   "metadata": {
    "collapsed": false
   },
   "outputs": [
    {
     "data": {
      "image/png": "[encoded data removed]",
      "text/plain": [
       "<matplotlib.figure.Figure at 0x7f995db34e48>"
      ]
     },
     "metadata": {},
     "output_type": "display_data"
    },
    {
     "name": "stdout",
     "output_type": "stream",
     "text": [
      "hedgehog\n"
     ]
    },
    {
     "data": {
      "image/png": "[encoded data removed]",
      "text/plain": [
       "<matplotlib.figure.Figure at 0x7f995da37cc0>"
      ]
     },
     "metadata": {},
     "output_type": "display_data"
    },
    {
     "name": "stdout",
     "output_type": "stream",
     "text": [
      "hedgehog\n"
     ]
    }
   ],
   "source": [
    "sample = np.random.randint(13500)\n",
    "plt.imshow(X_train1[sample].reshape(128, 128))\n",
    "plt.show()\n",
    "print (labels[y_train1[sample]])\n",
    "plt.imshow(X_train1[sample+13500].reshape(128, 128))\n",
    "plt.show()\n",
    "print (labels[y_train1[sample+13500]])"
   ]
  },
  {
   "cell_type": "code",
   "execution_count": 5,
   "metadata": {
    "collapsed": false
   },
   "outputs": [
    {
     "name": "stdout",
     "output_type": "stream",
     "text": [
      "(?, 250)\n"
     ]
    }
   ],
   "source": [
    "tf.reset_default_graph()\n",
    "\n",
    "reg_val = 1e0\n",
    "learning_rate = 1e-3\n",
    "dr = 0.5\n",
    "\n",
    "X = tf.placeholder(tf.float32, [None, res, res, 1])\n",
    "y = tf.placeholder(tf.int64, [None])\n",
    "is_training = tf.placeholder(tf.bool)\n",
    "lr = tf.placeholder(tf.float32)\n",
    "reg = tf.placeholder(tf.float32)\n",
    "dropout_rate = tf.placeholder(tf.float32)\n",
    "\n",
    "y_out = models.resnet_wide(X, y, \n",
    "                           layer_depth=3, \n",
    "                           num_classes=num_classes, \n",
    "                           is_training=is_training, \n",
    "                           reg=reg,\n",
    "                           dropout=dropout_rate)\n",
    "print (y_out.shape)\n",
    "mean_loss = tf.reduce_mean(tf.nn.softmax_cross_entropy_with_logits(labels=tf.one_hot(y, num_classes), logits=y_out))\n",
    "optimizer = tf.train.AdamOptimizer(learning_rate=lr)\n",
    "\n",
    "# batch normalization in tensorflow requires this extra dependency\n",
    "extra_update_ops = tf.get_collection(tf.GraphKeys.UPDATE_OPS)\n",
    "with tf.control_dependencies(extra_update_ops):\n",
    "    train_step = optimizer.minimize(mean_loss)"
   ]
  },
  {
   "cell_type": "code",
   "execution_count": 6,
   "metadata": {
    "collapsed": true
   },
   "outputs": [],
   "source": [
    "def run_model(session, predict, loss_val, Xd, yd,\n",
    "              epochs=1, batch_size=64, print_every=100,\n",
    "              training=None, plot_losses=False):\n",
    "    # have tensorflow compute accuracy\n",
    "    correct_prediction = tf.equal(tf.argmax(predict,1), y)\n",
    "    accuracy = tf.reduce_mean(tf.cast(correct_prediction, tf.float32))\n",
    "    \n",
    "    # shuffle indicies\n",
    "    train_indicies = np.arange(Xd.shape[0])\n",
    "    np.random.shuffle(train_indicies)\n",
    "\n",
    "    training_now = training is not None\n",
    "    \n",
    "    # setting up variables we want to compute (and optimizing)\n",
    "    # if we have a training function, add that to things we compute\n",
    "    variables = [mean_loss,correct_prediction,accuracy]\n",
    "    if training_now:\n",
    "        variables[-1] = training\n",
    "    \n",
    "    # counter \n",
    "    iter_cnt = 0\n",
    "    for e in range(epochs):\n",
    "                # keep track of losses and accuracy\n",
    "        correct = 0\n",
    "        losses = []\n",
    "        # make sure we iterate over the dataset once\n",
    "        for i in range(int(math.ceil(Xd.shape[0]/batch_size))):\n",
    "                        # generate indicies for the batch\n",
    "            start_idx = (i*batch_size)%Xd.shape[0]\n",
    "            idx = train_indicies[start_idx:start_idx+batch_size]\n",
    "            \n",
    "            # create a feed dictionary for this batch\n",
    "            feed_dict = {X: Xd[idx,:], \n",
    "                         y: yd[idx], \n",
    "                         is_training:training_now,\n",
    "                         lr : learning_rate, \n",
    "                         reg: reg_val,\n",
    "                         dropout_rate: dr}\n",
    "                        \n",
    "            # get batch size\n",
    "            actual_batch_size = yd[i:i+batch_size].shape[0]\n",
    "            \n",
    "            # have tensorflow compute loss and correct predictions\n",
    "            # and (if given) perform a training step\n",
    "            loss, corr, _ = session.run(variables,feed_dict=feed_dict)\n",
    "            \n",
    "            # aggregate performance stats\n",
    "            losses.append(loss*actual_batch_size)\n",
    "            correct += np.sum(corr)\n",
    "            \n",
    "            # print every now and then\n",
    "            if training_now and (iter_cnt % print_every) == 0:\n",
    "                print(\"Iteration {0}: with minibatch training loss = {1:.3g} and accuracy of {2:.2g}\"\\\n",
    "                                                              .format(iter_cnt,loss,np.sum(corr)/actual_batch_size))\n",
    "            iter_cnt += 1\n",
    "        total_correct = correct/Xd.shape[0]\n",
    "        total_loss = np.sum(losses)/Xd.shape[0]\n",
    "        print(\"Epoch {2}, Overall loss = {0:.3g} and accuracy of {1:.3g}\"\\\n",
    "                              .format(total_loss,total_correct,e+1))\n",
    "        if plot_losses:\n",
    "            plt.plot(losses)\n",
    "            plt.grid(True)\n",
    "            plt.title('Epoch {} Loss'.format(e+1))\n",
    "            plt.xlabel('minibatch number')\n",
    "            plt.ylabel('minibatch loss')\n",
    "            plt.show()\n",
    "    return total_loss,total_correct"
   ]
  },
  {
   "cell_type": "code",
   "execution_count": 8,
   "metadata": {
    "collapsed": false
   },
   "outputs": [],
   "source": [
    "sess = tf.Session()\n",
    "sess.run(tf.global_variables_initializer())\n",
    "train_losses = []\n",
    "train_acc = []\n",
    "val_losses = []\n",
    "val_acc = []\n",
    "saver = tf.train.Saver()\n",
    "\n",
    "model_name = \"cross1\""
   ]
  },
  {
   "cell_type": "code",
   "execution_count": 17,
   "metadata": {
    "collapsed": false
   },
   "outputs": [
    {
     "name": "stdout",
     "output_type": "stream",
     "text": [
      "Restoring resnet-wide-v2-15\n"
     ]
    }
   ],
   "source": [
    "with open(\"{}.txt\".format(model_name)) as logs:\n",
    "    train_losses = [ float(val) for val in logs.readline().split()[:15] ]\n",
    "    val_losses = [ float(val) for val in logs.readline().split()[:15] ]\n",
    "    train_acc = [ float(val) for val in logs.readline().split()[:15] ]\n",
    "    val_acc = [ float(val) for val in logs.readline().split()[:15] ]\n",
    "\n",
    "saver.restore(sess, \"./checkpoints/{}-{}\".format(model_name, len(val_acc)))\n",
    "print(\"Restoring {}-{}\".format(model_name, len(val_acc)))"
   ]
  },
  {
   "cell_type": "code",
   "execution_count": null,
   "metadata": {
    "collapsed": false,
    "scrolled": false
   },
   "outputs": [
    {
     "name": "stdout",
     "output_type": "stream",
     "text": [
      "Iteration 0: with minibatch training loss = 0.629 and accuracy of 0.81\n",
      "Iteration 50: with minibatch training loss = 0.759 and accuracy of 0.75"
     ]
    }
   ],
   "source": [
    "epochs = 5\n",
    "reg_val = 1e0\n",
    "learning_rate = 1e-3\n",
    "dr = 0.5\n",
    "for i in range(epochs):\n",
    "    loss, acc = run_model(session=sess,\n",
    "                                 predict=y_out,\n",
    "                                 loss_val=mean_loss,\n",
    "                                 Xd=X_train,\n",
    "                                 yd=y_train,\n",
    "                                 epochs=1,\n",
    "                                 batch_size=64,\n",
    "                                 print_every=50,\n",
    "                                 training=train_step,\n",
    "                                 plot_losses=False)\n",
    "    train_losses.append(loss)\n",
    "    train_acc.append(acc)\n",
    "    loss, acc = run_model(session=sess,\n",
    "                                 predict=y_out,\n",
    "                                 loss_val=mean_loss,\n",
    "                                 Xd=X_val,\n",
    "                                 yd=y_val,\n",
    "                                 epochs=1,\n",
    "                                 batch_size=64,\n",
    "                                 print_every=10000,\n",
    "                                 training=None,\n",
    "                                 plot_losses=False)\n",
    "    val_losses.append(loss)\n",
    "    val_acc.append(acc)\n",
    "    saver.save(sess, \"./checkpoints/\" + model_name, global_step=len(val_acc))\n",
    "    f = open(\"./checkpoints/\" + model_name + \".txt\", 'w')\n",
    "    f.write(\" \".join([str(num) for num in train_losses]) + \"\\n\")\n",
    "    f.write(\" \".join([str(num) for num in val_losses]) + \"\\n\")\n",
    "    f.write(\" \".join([str(num) for num in train_acc]) + \"\\n\")\n",
    "    f.write(\" \".join([str(num) for num in val_acc]) + \"\\n\")\n",
    "    f.close()"
   ]
  },
  {
   "cell_type": "code",
   "execution_count": 15,
   "metadata": {
    "collapsed": false
   },
   "outputs": [
    {
     "data": {
      "image/png": "[encoded data removed]",
      "text/plain": [
       "<matplotlib.figure.Figure at 0x7efb61633400>"
      ]
     },
     "metadata": {},
     "output_type": "display_data"
    },
    {
     "name": "stdout",
     "output_type": "stream",
     "text": [
      "[5.40679392242, 4.5596849969228108, 4.0385965868631999, 3.5223032569885255, 3.0851254908243817, 2.6757282721201578, 2.3237145258585614, 2.0239918171564737, 1.7853538541793823, 1.5819609634081522, 1.3884473692576091, 1.2632822443644205, 1.0638857434590658, 0.90532179816563929, 0.77338855195045475]\n",
      "[6.6191144104, 4.9968446578979488, 3.9410438385009767, 5.7172949600219729, 3.1694038734436036, 3.6134310607910156, 2.4302836456298826, 2.4560771675109865, 2.1042933731079101, 2.4797817115783691, 1.9523695945739745, 1.702160457611084, 2.2764737281799317, 1.8128202877044677, 1.780592399597168]\n"
     ]
    },
    {
     "data": {
      "image/png": "[encoded data removed]",
      "text/plain": [
       "<matplotlib.figure.Figure at 0x7efb61627240>"
      ]
     },
     "metadata": {},
     "output_type": "display_data"
    },
    {
     "name": "stdout",
     "output_type": "stream",
     "text": [
      "[0.0174166666667, 0.057083333333333333, 0.11733333333333333, 0.19545833333333335, 0.27737499999999998, 0.35308333333333336, 0.41979166666666667, 0.48083333333333333, 0.53170833333333334, 0.57887500000000003, 0.62033333333333329, 0.65045833333333336, 0.69804166666666667, 0.73779166666666662, 0.7689583333333333]\n",
      "[0.00975, 0.050500000000000003, 0.17075000000000001, 0.084500000000000006, 0.28249999999999997, 0.29925000000000002, 0.41999999999999998, 0.43025000000000002, 0.4975, 0.45274999999999999, 0.55249999999999999, 0.57674999999999998, 0.499, 0.57325000000000004, 0.58999999999999997]\n"
     ]
    }
   ],
   "source": [
    "plt.plot(train_losses, label='Train')\n",
    "plt.plot(val_losses, label='Val')\n",
    "plt.grid(True)\n",
    "plt.title('Loss')\n",
    "plt.xlabel('Epoch')\n",
    "plt.ylabel('Loss')\n",
    "plt.legend()\n",
    "plt.show()\n",
    "print(train_losses)\n",
    "print(val_losses)\n",
    "\n",
    "plt.plot(train_acc, label='Train')\n",
    "plt.plot(val_acc, label='Val')\n",
    "plt.grid(True)\n",
    "plt.title('Accuracy')\n",
    "plt.xlabel('Epoch')\n",
    "plt.ylabel('Accuracy')\n",
    "plt.legend()\n",
    "plt.show()\n",
    "print(train_acc)\n",
    "print(val_acc)"
   ]
  },
  {
   "cell_type": "code",
   "execution_count": null,
   "metadata": {
    "collapsed": true
   },
   "outputs": [],
   "source": []
  }
 ],
 "metadata": {
  "kernelspec": {
   "display_name": "Python 3",
   "language": "python",
   "name": "python3"
  },
  "language_info": {
   "codemirror_mode": {
    "name": "ipython",
    "version": 3
   },
   "file_extension": ".py",
   "mimetype": "text/x-python",
   "name": "python",
   "nbconvert_exporter": "python",
   "pygments_lexer": "ipython3",
   "version": "3.5.2"
  }
 },
 "nbformat": 4,
 "nbformat_minor": 2
}
