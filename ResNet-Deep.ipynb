{
 "cells": [
  {
   "cell_type": "code",
   "execution_count": 2,
   "metadata": {
    "collapsed": false
   },
   "outputs": [
    {
     "name": "stdout",
     "output_type": "stream",
     "text": [
      "The autoreload extension is already loaded. To reload it, use:\n",
      "  %reload_ext autoreload\n"
     ]
    }
   ],
   "source": [
    "from __future__ import division\n",
    "\n",
    "import datautils\n",
    "import numpy as np\n",
    "import matplotlib.pyplot as plt\n",
    "import time\n",
    "import tensorflow as tf\n",
    "import math\n",
    "import models\n",
    "\n",
    "%matplotlib inline\n",
    "plt.rcParams['figure.figsize'] = (5.0, 5.0) # set default size of plots\n",
    "plt.rcParams['image.interpolation'] = 'nearest'\n",
    "plt.rcParams['image.cmap'] = 'gray'\n",
    "\n",
    "%load_ext autoreload\n",
    "%autoreload 2"
   ]
  },
  {
   "cell_type": "code",
   "execution_count": 3,
   "metadata": {
    "collapsed": false
   },
   "outputs": [
    {
     "name": "stdout",
     "output_type": "stream",
     "text": [
      "Read 32000 images in 6.477075999999999 seconds\n",
      "X_train:  (24000, 128, 128, 1)\n",
      "y_train:  (24000,)\n",
      "X_val:  (4000, 128, 128, 1)\n",
      "y_val:  (4000,)\n",
      "X_test:  (4000, 128, 128, 1)\n",
      "y_test:  (4000,)\n"
     ]
    }
   ],
   "source": [
    "# Read in the data\n",
    "num_classes = 250 #250\n",
    "res = 128\n",
    "\n",
    "tic = time.clock()\n",
    "X_train, y_train, X_val, y_val, X_test, y_test, labels = datautils.get_data(num_classes=num_classes, res=128, flip=True)\n",
    "toc = time.clock()\n",
    "print (\"Read {} images in {:5} seconds\".format(X_train.shape[0] + X_val.shape[0] + X_test.shape[0], toc - tic))\n",
    "print (\"X_train: \", X_train.shape)\n",
    "print (\"y_train: \", y_train.shape)\n",
    "print (\"X_val: \", X_val.shape)\n",
    "print (\"y_val: \", y_val.shape)\n",
    "print (\"X_test: \", X_test.shape)\n",
    "print (\"y_test: \", y_test.shape)"
   ]
  },
  {
   "cell_type": "code",
   "execution_count": 4,
   "metadata": {
    "collapsed": false
   },
   "outputs": [
    {
     "data": {
      "image/png": "[encoded data removed]",
      "text/plain": [
       "<matplotlib.figure.Figure at 0x7f65b52ba710>"
      ]
     },
     "metadata": {},
     "output_type": "display_data"
    },
    {
     "data": {
      "image/png": "[encoded data removed]",
      "text/plain": [
       "<matplotlib.figure.Figure at 0x7f6617648160>"
      ]
     },
     "metadata": {},
     "output_type": "display_data"
    },
    {
     "name": "stdout",
     "output_type": "stream",
     "text": [
      "space shuttle\n"
     ]
    }
   ],
   "source": [
    "# Plot a random image\n",
    "sample = np.random.randint(X_train.shape[0])\n",
    "plt.imshow(X_train[sample].reshape(128, 128))\n",
    "plt.show()\n",
    "plt.imshow(X_train[sample + (1 if sample % 2 == 0 else -1)].reshape(128, 128))\n",
    "plt.show()\n",
    "print (labels[y_train[sample]])"
   ]
  },
  {
   "cell_type": "code",
   "execution_count": 5,
   "metadata": {
    "collapsed": false
   },
   "outputs": [
    {
     "name": "stdout",
     "output_type": "stream",
     "text": [
      "(?, 250)\n"
     ]
    }
   ],
   "source": [
    "tf.reset_default_graph()\n",
    "\n",
    "reg_val = 1e0\n",
    "learning_rate = 1e-3\n",
    "dr = 0.5\n",
    "\n",
    "X = tf.placeholder(tf.float32, [None, res, res, 1])\n",
    "y = tf.placeholder(tf.int64, [None])\n",
    "is_training = tf.placeholder(tf.bool)\n",
    "lr = tf.placeholder(tf.float32)\n",
    "reg = tf.placeholder(tf.float32)\n",
    "dropout_rate = tf.placeholder(tf.float32)\n",
    "\n",
    "y_out = models.resnet_dropout(X, y, \n",
    "                           layer_depth=4, \n",
    "                           num_classes=num_classes, \n",
    "                           is_training=is_training, \n",
    "                           reg=reg,\n",
    "                           dropout=dropout_rate)\n",
    "print (y_out.shape)\n",
    "mean_loss = tf.reduce_mean(tf.nn.softmax_cross_entropy_with_logits(labels=tf.one_hot(y, num_classes), logits=y_out))\n",
    "optimizer = tf.train.AdamOptimizer(learning_rate=lr)\n",
    "\n",
    "# batch normalization in tensorflow requires this extra dependency\n",
    "extra_update_ops = tf.get_collection(tf.GraphKeys.UPDATE_OPS)\n",
    "with tf.control_dependencies(extra_update_ops):\n",
    "    train_step = optimizer.minimize(mean_loss)"
   ]
  },
  {
   "cell_type": "code",
   "execution_count": 6,
   "metadata": {
    "collapsed": true
   },
   "outputs": [],
   "source": [
    "def run_model(session, predict, loss_val, Xd, yd,\n",
    "              epochs=1, batch_size=64, print_every=100,\n",
    "              training=None, plot_losses=False):\n",
    "    # have tensorflow compute accuracy\n",
    "    correct_prediction = tf.equal(tf.argmax(predict,1), y)\n",
    "    accuracy = tf.reduce_mean(tf.cast(correct_prediction, tf.float32))\n",
    "    \n",
    "    # shuffle indicies\n",
    "    train_indicies = np.arange(Xd.shape[0])\n",
    "    np.random.shuffle(train_indicies)\n",
    "\n",
    "    training_now = training is not None\n",
    "    \n",
    "    # setting up variables we want to compute (and optimizing)\n",
    "    # if we have a training function, add that to things we compute\n",
    "    variables = [mean_loss,correct_prediction,accuracy]\n",
    "    if training_now:\n",
    "        variables[-1] = training\n",
    "    \n",
    "    # counter \n",
    "    iter_cnt = 0\n",
    "    for e in range(epochs):\n",
    "                # keep track of losses and accuracy\n",
    "        correct = 0\n",
    "        losses = []\n",
    "        # make sure we iterate over the dataset once\n",
    "        for i in range(int(math.ceil(Xd.shape[0]/batch_size))):\n",
    "                        # generate indicies for the batch\n",
    "            start_idx = (i*batch_size)%Xd.shape[0]\n",
    "            idx = train_indicies[start_idx:start_idx+batch_size]\n",
    "            \n",
    "            # create a feed dictionary for this batch\n",
    "            feed_dict = {X: Xd[idx,:], \n",
    "                         y: yd[idx], \n",
    "                         is_training:training_now,\n",
    "                         lr : learning_rate, \n",
    "                         reg: reg_val,\n",
    "                         dropout_rate: dr}\n",
    "                        \n",
    "            # get batch size\n",
    "            actual_batch_size = yd[i:i+batch_size].shape[0]\n",
    "            \n",
    "            # have tensorflow compute loss and correct predictions\n",
    "            # and (if given) perform a training step\n",
    "            loss, corr, _ = session.run(variables,feed_dict=feed_dict)\n",
    "            \n",
    "            # aggregate performance stats\n",
    "            losses.append(loss*actual_batch_size)\n",
    "            correct += np.sum(corr)\n",
    "            \n",
    "            # print every now and then\n",
    "            if training_now and (iter_cnt % print_every) == 0:\n",
    "                print(\"Iteration {0}: with minibatch training loss = {1:.3g} and accuracy of {2:.2g}\"\\\n",
    "                                                              .format(iter_cnt,loss,np.sum(corr)/actual_batch_size))\n",
    "            iter_cnt += 1\n",
    "        total_correct = correct/Xd.shape[0]\n",
    "        total_loss = np.sum(losses)/Xd.shape[0]\n",
    "        print(\"Epoch {2}, Overall loss = {0:.3g} and accuracy of {1:.3g}\"\\\n",
    "                              .format(total_loss,total_correct,e+1))\n",
    "        if plot_losses:\n",
    "            plt.plot(losses)\n",
    "            plt.grid(True)\n",
    "            plt.title('Epoch {} Loss'.format(e+1))\n",
    "            plt.xlabel('minibatch number')\n",
    "            plt.ylabel('minibatch loss')\n",
    "            plt.show()\n",
    "    return total_loss,total_correct"
   ]
  },
  {
   "cell_type": "code",
   "execution_count": 7,
   "metadata": {
    "collapsed": false
   },
   "outputs": [],
   "source": [
    "sess = tf.Session()\n",
    "sess.run(tf.global_variables_initializer())\n",
    "train_losses = []\n",
    "train_acc = []\n",
    "val_losses = []\n",
    "val_acc = []\n",
    "saver = tf.train.Saver(max_to_keep=None)\n",
    "model_name = \"resnet-deep\""
   ]
  },
  {
   "cell_type": "code",
   "execution_count": null,
   "metadata": {
    "collapsed": true
   },
   "outputs": [],
   "source": []
  },
  {
   "cell_type": "code",
   "execution_count": null,
   "metadata": {
    "collapsed": false
   },
   "outputs": [],
   "source": [
    "with open(\"./checkpoints/{}.txt\".format(model_name)) as logs:\n",
    "    train_losses = [ float(val) for val in logs.readline().split() ]\n",
    "    val_losses = [ float(val) for val in logs.readline().split() ]\n",
    "    train_acc = [ float(val) for val in logs.readline().split() ]\n",
    "    val_acc = [ float(val) for val in logs.readline().split() ]\n",
    "\n",
    "saver.restore(sess, \"./checkpoints/{}-{}\".format(model_name, len(val_acc)))\n",
    "print(\"Restoring {}-{}\".format(model_name, len(val_acc)))"
   ]
  },
  {
   "cell_type": "code",
   "execution_count": null,
   "metadata": {
    "collapsed": false,
    "scrolled": false
   },
   "outputs": [],
   "source": [
    "epochs = 15\n",
    "reg_val = 1e0\n",
    "learning_rate = 1e-3\n",
    "dr = 0.5\n",
    "for i in range(epochs):\n",
    "    loss, acc = run_model(session=sess,\n",
    "                                 predict=y_out,\n",
    "                                 loss_val=mean_loss,\n",
    "                                 Xd=X_train,\n",
    "                                 yd=y_train,\n",
    "                                 epochs=1,\n",
    "                                 batch_size=64,\n",
    "                                 print_every=50,\n",
    "                                 training=train_step,\n",
    "                                 plot_losses=False)\n",
    "    train_losses.append(loss)\n",
    "    train_acc.append(acc)\n",
    "    loss, acc = run_model(session=sess,\n",
    "                                 predict=y_out,\n",
    "                                 loss_val=mean_loss,\n",
    "                                 Xd=X_val,\n",
    "                                 yd=y_val,\n",
    "                                 epochs=1,\n",
    "                                 batch_size=64,\n",
    "                                 print_every=10000,\n",
    "                                 training=None,\n",
    "                                 plot_losses=False)\n",
    "    val_losses.append(loss)\n",
    "    val_acc.append(acc)\n",
    "    saver.save(sess, \"./checkpoints/\" + model_name, global_step=len(val_acc))\n",
    "    f = open(\"./checkpoints/\" + model_name + \".txt\", 'w')\n",
    "    f.write(\" \".join([str(num) for num in train_losses]) + \"\\n\")\n",
    "    f.write(\" \".join([str(num) for num in val_losses]) + \"\\n\")\n",
    "    f.write(\" \".join([str(num) for num in train_acc]) + \"\\n\")\n",
    "    f.write(\" \".join([str(num) for num in val_acc]) + \"\\n\")\n",
    "    f.close()\n",
    "    \n",
    "epochs = 5\n",
    "reg_val = 1e0\n",
    "learning_rate = 1e-4\n",
    "dr = 0.5\n",
    "for i in range(epochs):\n",
    "    loss, acc = run_model(session=sess,\n",
    "                                 predict=y_out,\n",
    "                                 loss_val=mean_loss,\n",
    "                                 Xd=X_train,\n",
    "                                 yd=y_train,\n",
    "                                 epochs=1,\n",
    "                                 batch_size=64,\n",
    "                                 print_every=50,\n",
    "                                 training=train_step,\n",
    "                                 plot_losses=False)\n",
    "    train_losses.append(loss)\n",
    "    train_acc.append(acc)\n",
    "    loss, acc = run_model(session=sess,\n",
    "                                 predict=y_out,\n",
    "                                 loss_val=mean_loss,\n",
    "                                 Xd=X_val,\n",
    "                                 yd=y_val,\n",
    "                                 epochs=1,\n",
    "                                 batch_size=64,\n",
    "                                 print_every=10000,\n",
    "                                 training=None,\n",
    "                                 plot_losses=False)\n",
    "    val_losses.append(loss)\n",
    "    val_acc.append(acc)\n",
    "    saver.save(sess, \"./checkpoints/\" + model_name, global_step=len(val_acc))\n",
    "    f = open(\"./checkpoints/\" + model_name + \".txt\", 'w')\n",
    "    f.write(\" \".join([str(num) for num in train_losses]) + \"\\n\")\n",
    "    f.write(\" \".join([str(num) for num in val_losses]) + \"\\n\")\n",
    "    f.write(\" \".join([str(num) for num in train_acc]) + \"\\n\")\n",
    "    f.write(\" \".join([str(num) for num in val_acc]) + \"\\n\")\n",
    "    f.close()"
   ]
  },
  {
   "cell_type": "code",
   "execution_count": 9,
   "metadata": {
    "collapsed": false
   },
   "outputs": [
    {
     "data": {
      "image/png": "[encoded data removed]",
      "text/plain": [
       "<matplotlib.figure.Figure at 0x7f64bc9bdf28>"
      ]
     },
     "metadata": {},
     "output_type": "display_data"
    },
    {
     "name": "stdout",
     "output_type": "stream",
     "text": [
      "[5.2550867373148602, 4.432896111806234, 3.8325731658935549, 3.2621636021931968, 2.765304880777995, 2.3490875047047934, 2.0393175204594929, 1.8101661059061687, 1.5737613967259725, 1.3814435935020446, 1.2139689396222433, 1.0560413428942363, 0.91684730275472004, 0.76231476473808291, 0.64658978827794389, 0.35335297024250029, 0.28167784547805785, 0.24424697917699814, 0.22183552227417627, 0.20237349327405293]\n",
      "[15.31757601928711, 26.745169677734374, 3.755674518585205, 3.1413991355895998, 2.7215515060424806, 2.414082530975342, 2.1262152519226074, 2.1347530517578126, 1.9379032554626465, 2.0809809589385986, 2.0033216819763182, 1.8698801879882812, 1.8189679222106934, 1.9374690437316895, 1.8399242706298828, 1.5585956583023071, 1.5780306243896485, 1.5953706474304199, 1.6039868297576905, 1.6185678186416625]\n"
     ]
    },
    {
     "data": {
      "image/png": "[encoded data removed]",
      "text/plain": [
       "<matplotlib.figure.Figure at 0x7f6535c67860>"
      ]
     },
     "metadata": {},
     "output_type": "display_data"
    },
    {
     "name": "stdout",
     "output_type": "stream",
     "text": [
      "[0.020583333333333332, 0.068416666666666667, 0.14329166666666668, 0.24137500000000001, 0.33404166666666668, 0.41462500000000002, 0.48083333333333333, 0.52858333333333329, 0.58083333333333331, 0.62145833333333333, 0.65970833333333334, 0.69695833333333335, 0.73024999999999995, 0.77308333333333334, 0.80591666666666661, 0.89845833333333336, 0.92341666666666666, 0.93529166666666663, 0.94004166666666666, 0.94758333333333333]\n",
      "[0.0025000000000000001, 0.022499999999999999, 0.17599999999999999, 0.28999999999999998, 0.35999999999999999, 0.42525000000000002, 0.48325000000000001, 0.48249999999999998, 0.52375000000000005, 0.502, 0.53300000000000003, 0.55474999999999997, 0.57625000000000004, 0.55200000000000005, 0.58699999999999997, 0.64049999999999996, 0.64349999999999996, 0.64124999999999999, 0.64349999999999996, 0.64400000000000002]\n"
     ]
    }
   ],
   "source": [
    "plt.plot(train_losses, label='Train')\n",
    "plt.plot(val_losses, label='Val')\n",
    "plt.grid(True)\n",
    "plt.title('Loss')\n",
    "plt.xlabel('Epoch')\n",
    "plt.ylabel('Loss')\n",
    "plt.legend()\n",
    "plt.show()\n",
    "print(train_losses)\n",
    "print(val_losses)\n",
    "\n",
    "plt.plot(train_acc, label='Train')\n",
    "plt.plot(val_acc, label='Val')\n",
    "plt.grid(True)\n",
    "plt.title('Accuracy')\n",
    "plt.xlabel('Epoch')\n",
    "plt.ylabel('Accuracy')\n",
    "plt.legend()\n",
    "plt.show()\n",
    "print(train_acc)\n",
    "print(val_acc)"
   ]
  },
  {
   "cell_type": "code",
   "execution_count": null,
   "metadata": {
    "collapsed": false
   },
   "outputs": [],
   "source": [
    "with open(\"./checkpoints/{}.txt\".format(model_name)) as logs:\n",
    "    train_losses = [ float(val) for val in logs.readline().split()[:20] ]\n",
    "    val_losses = [ float(val) for val in logs.readline().split()[:20] ]\n",
    "    train_acc = [ float(val) for val in logs.readline().split()[:20] ]\n",
    "    val_acc = [ float(val) for val in logs.readline().split()[:20] ]\n",
    "\n",
    "print(val_acc)\n",
    "best_epoch = np.argmax(val_acc) + 1\n",
    "print(\"Best epoch: {}, {}\".format(best_epoch, val_acc[best_epoch - 1]))\n",
    "\n",
    "saver.restore(sess, \"./checkpoints/{}-{}\".format(model_name, best_epoch))\n",
    "print(\"Restoring {}-{}\".format(model_name, best_epoch))\n",
    "\n",
    "\"\"\"\n",
    "test_loss, test_acc = run_model(session=sess,\n",
    "                                 predict=y_out,\n",
    "                                 loss_val=mean_loss,\n",
    "                                 Xd=X_test,\n",
    "                                 yd=y_test,\n",
    "                                 epochs=1,\n",
    "                                 batch_size=64,\n",
    "                                 print_every=10000,\n",
    "                                 training=None,\n",
    "                                 plot_losses=False)\n",
    "print(\"Test accuracy: {}, loss: {}\".format(test_acc, test_loss))\n",
    "\"\"\""
   ]
  },
  {
   "cell_type": "code",
   "execution_count": null,
   "metadata": {
    "collapsed": false
   },
   "outputs": [],
   "source": [
    "predictions = tf.argmax(y_out, axis=1)\n",
    "preds = np.zeros(4000)\n",
    "for i in range(0, 4000, 32):\n",
    "    batch = range(i, i + 32)\n",
    "    Xd = X_test[batch]\n",
    "    yd = y_test[batch]\n",
    "    feed_dict = {X : X_test[batch],\n",
    "                 y: y_test[batch],\n",
    "                 is_training: False,\n",
    "                 dropout_rate: 0.5,\n",
    "                 lr: 1e-3,\n",
    "                 reg: 1e0}\n",
    "    out = sess.run([predictions], feed_dict=feed_dict)[0]\n",
    "    preds[batch] = out"
   ]
  },
  {
   "cell_type": "code",
   "execution_count": null,
   "metadata": {
    "collapsed": false
   },
   "outputs": [],
   "source": [
    "f = open(\"test_predictions.txt\", 'w')\n",
    "f.write(\"\\n\".join([str(int(val)) for val in preds]))\n",
    "f.close()\n",
    "\n",
    "f = open(\"test_labels.txt\", 'w')\n",
    "f.write(\"\\n\".join([str(int(val)) for val in y_test]))\n",
    "f.close()"
   ]
  },
  {
   "cell_type": "code",
   "execution_count": null,
   "metadata": {
    "collapsed": false
   },
   "outputs": [],
   "source": [
    "sess.close()"
   ]
  },
  {
   "cell_type": "code",
   "execution_count": null,
   "metadata": {
    "collapsed": true
   },
   "outputs": [],
   "source": []
  }
 ],
 "metadata": {
  "kernelspec": {
   "display_name": "Python 3",
   "language": "python",
   "name": "python3"
  }
 },
 "nbformat": 4,
 "nbformat_minor": 2
}
