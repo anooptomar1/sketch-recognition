{
 "cells": [
  {
   "cell_type": "code",
   "execution_count": 1,
   "metadata": {
    "collapsed": false
   },
   "outputs": [],
   "source": [
    "from __future__ import division\n",
    "\n",
    "import datautils\n",
    "import numpy as np\n",
    "import matplotlib.pyplot as plt\n",
    "import time\n",
    "import tensorflow as tf\n",
    "import math\n",
    "import models\n",
    "\n",
    "%matplotlib inline\n",
    "plt.rcParams['figure.figsize'] = (5.0, 5.0) # set default size of plots\n",
    "plt.rcParams['image.interpolation'] = 'nearest'\n",
    "plt.rcParams['image.cmap'] = 'gray'\n",
    "\n",
    "%load_ext autoreload\n",
    "%autoreload 2"
   ]
  },
  {
   "cell_type": "code",
   "execution_count": 2,
   "metadata": {
    "collapsed": false
   },
   "outputs": [
    {
     "name": "stdout",
     "output_type": "stream",
     "text": [
      "Read 20000 images in 5.998538000000001 seconds\n",
      "X_train:  (16000, 128, 128, 1)\n",
      "y_train:  (16000,)\n",
      "X_val:  (2000, 128, 128, 1)\n",
      "y_val:  (2000,)\n",
      "X_test:  (2000, 128, 128, 1)\n",
      "y_test:  (2000,)\n"
     ]
    }
   ],
   "source": [
    "# Read in the data\n",
    "num_classes = 250 #250\n",
    "res = 128\n",
    "\n",
    "tic = time.clock()\n",
    "X_train, y_train, X_val, y_val, X_test, y_test, labels = datautils.get_data(num_classes=num_classes, res=128)\n",
    "toc = time.clock()\n",
    "print (\"Read {} images in {:5} seconds\".format(X_train.shape[0] + X_val.shape[0] + X_test.shape[0], toc - tic))\n",
    "print (\"X_train: \", X_train.shape)\n",
    "print (\"y_train: \", y_train.shape)\n",
    "print (\"X_val: \", X_val.shape)\n",
    "print (\"y_val: \", y_val.shape)\n",
    "print (\"X_test: \", X_test.shape)\n",
    "print (\"y_test: \", y_test.shape)"
   ]
  },
  {
   "cell_type": "code",
   "execution_count": 3,
   "metadata": {
    "collapsed": false
   },
   "outputs": [
    {
     "data": {
      "image/png": "[encoded data removed]",
      "text/plain": [
       "<matplotlib.figure.Figure at 0x7f5ca0c20e10>"
      ]
     },
     "metadata": {},
     "output_type": "display_data"
    },
    {
     "name": "stdout",
     "output_type": "stream",
     "text": [
      "ear\n"
     ]
    }
   ],
   "source": [
    "# Plot a random image\n",
    "sample = np.random.randint(X_train.shape[0])\n",
    "plt.imshow(X_train[sample].reshape(128, 128))\n",
    "plt.show()\n",
    "print (labels[y_train[sample]])"
   ]
  },
  {
   "cell_type": "code",
   "execution_count": 4,
   "metadata": {
    "collapsed": false
   },
   "outputs": [
    {
     "name": "stdout",
     "output_type": "stream",
     "text": [
      "(?, 250)\n"
     ]
    }
   ],
   "source": [
    "tf.reset_default_graph()\n",
    "with tf.device('/gpu:0'):\n",
    "    X = tf.placeholder(tf.float32, [None, res, res, 1])\n",
    "    y = tf.placeholder(tf.int64, [None])\n",
    "    is_training = tf.placeholder(tf.bool)\n",
    "    lr = tf.placeholder(tf.float32)\n",
    "    reg = tf.placeholder(tf.float32)\n",
    "\n",
    "    y_out = models.resnet(X, y, layer_depth=3, num_classes=num_classes, is_training=is_training, reg=reg)\n",
    "    print (y_out.shape)\n",
    "    mean_loss = tf.reduce_mean(tf.nn.softmax_cross_entropy_with_logits(labels=tf.one_hot(y, num_classes), logits=y_out))\n",
    "    optimizer = tf.train.AdamOptimizer(learning_rate=lr)\n",
    "\n",
    "    # batch normalization in tensorflow requires this extra dependency\n",
    "    extra_update_ops = tf.get_collection(tf.GraphKeys.UPDATE_OPS)\n",
    "    with tf.control_dependencies(extra_update_ops):\n",
    "        train_step = optimizer.minimize(mean_loss)\n",
    "reg_val = 1e-2\n",
    "learning_rate = 1e-3"
   ]
  },
  {
   "cell_type": "code",
   "execution_count": 5,
   "metadata": {
    "collapsed": true
   },
   "outputs": [],
   "source": [
    "def run_model(session, predict, loss_val, Xd, yd,\n",
    "              epochs=1, batch_size=64, print_every=100,\n",
    "              training=None, plot_losses=False):\n",
    "    # have tensorflow compute accuracy\n",
    "    correct_prediction = tf.equal(tf.argmax(predict,1), y)\n",
    "    accuracy = tf.reduce_mean(tf.cast(correct_prediction, tf.float32))\n",
    "    \n",
    "    # shuffle indicies\n",
    "    train_indicies = np.arange(Xd.shape[0])\n",
    "    np.random.shuffle(train_indicies)\n",
    "\n",
    "    training_now = training is not None\n",
    "    \n",
    "    # setting up variables we want to compute (and optimizing)\n",
    "    # if we have a training function, add that to things we compute\n",
    "    variables = [mean_loss,correct_prediction,accuracy]\n",
    "    if training_now:\n",
    "        variables[-1] = training\n",
    "    \n",
    "    # counter \n",
    "    iter_cnt = 0\n",
    "    for e in range(epochs):\n",
    "                # keep track of losses and accuracy\n",
    "        correct = 0\n",
    "        losses = []\n",
    "        # make sure we iterate over the dataset once\n",
    "        for i in range(int(math.ceil(Xd.shape[0]/batch_size))):\n",
    "                        # generate indicies for the batch\n",
    "            start_idx = (i*batch_size)%X_train.shape[0]\n",
    "            idx = train_indicies[start_idx:start_idx+batch_size]\n",
    "            \n",
    "            # create a feed dictionary for this batch\n",
    "            feed_dict = {X: Xd[idx,:], y: yd[idx], is_training:training_now,\n",
    "                         lr : learning_rate, reg: reg_val}\n",
    "                        \n",
    "                        \n",
    "            # get batch size\n",
    "            actual_batch_size = yd[i:i+batch_size].shape[0]\n",
    "            \n",
    "            # have tensorflow compute loss and correct predictions\n",
    "            # and (if given) perform a training step\n",
    "            loss, corr, _ = session.run(variables,feed_dict=feed_dict)\n",
    "            \n",
    "            # aggregate performance stats\n",
    "            losses.append(loss*actual_batch_size)\n",
    "            correct += np.sum(corr)\n",
    "            \n",
    "            # print every now and then\n",
    "            if training_now and (iter_cnt % print_every) == 0:\n",
    "                print(\"Iteration {0}: with minibatch training loss = {1:.3g} and accuracy of {2:.2g}\"\\\n",
    "                                                              .format(iter_cnt,loss,np.sum(corr)/actual_batch_size))\n",
    "            iter_cnt += 1\n",
    "        total_correct = correct/Xd.shape[0]\n",
    "        total_loss = np.sum(losses)/Xd.shape[0]\n",
    "        print(\"Epoch {2}, Overall loss = {0:.3g} and accuracy of {1:.3g}\"\\\n",
    "                              .format(total_loss,total_correct,e+1))\n",
    "        if plot_losses:\n",
    "            plt.plot(losses)\n",
    "            plt.grid(True)\n",
    "            plt.title('Epoch {} Loss'.format(e+1))\n",
    "            plt.xlabel('minibatch number')\n",
    "            plt.ylabel('minibatch loss')\n",
    "            plt.show()\n",
    "    return total_loss,total_correct"
   ]
  },
  {
   "cell_type": "code",
   "execution_count": 6,
   "metadata": {
    "collapsed": false
   },
   "outputs": [],
   "source": [
    "sess = tf.Session()\n",
    "sess.run(tf.global_variables_initializer())\n",
    "train_losses = []\n",
    "train_acc = []\n",
    "val_losses = []\n",
    "val_acc = []"
   ]
  },
  {
   "cell_type": "code",
   "execution_count": 7,
   "metadata": {
    "collapsed": false,
    "scrolled": false
   },
   "outputs": [
    {
     "name": "stdout",
     "output_type": "stream",
     "text": [
      "Iteration 0: with minibatch training loss = 6.31 and accuracy of 0\n",
      "Iteration 25: with minibatch training loss = 5.43 and accuracy of 0\n",
      "Iteration 50: with minibatch training loss = 5.09 and accuracy of 0.031\n",
      "Iteration 75: with minibatch training loss = 4.68 and accuracy of 0.031\n",
      "Iteration 100: with minibatch training loss = 4.75 and accuracy of 0.031\n",
      "Iteration 125: with minibatch training loss = 4.63 and accuracy of 0.047\n",
      "Iteration 150: with minibatch training loss = 4.15 and accuracy of 0.078\n",
      "Iteration 175: with minibatch training loss = 4.1 and accuracy of 0.16\n",
      "Iteration 200: with minibatch training loss = 4.11 and accuracy of 0.078\n",
      "Iteration 225: with minibatch training loss = 3.89 and accuracy of 0.17\n",
      "Epoch 1, Overall loss = 4.57 and accuracy of 0.0791\n",
      "Epoch 1, Overall loss = 14.6 and accuracy of 0.018\n",
      "Iteration 0: with minibatch training loss = 4.05 and accuracy of 0.094\n",
      "Iteration 25: with minibatch training loss = 3.61 and accuracy of 0.23\n",
      "Iteration 50: with minibatch training loss = 3.65 and accuracy of 0.14\n",
      "Iteration 75: with minibatch training loss = 3.39 and accuracy of 0.19\n",
      "Iteration 100: with minibatch training loss = 3.53 and accuracy of 0.16\n",
      "Iteration 125: with minibatch training loss = 2.82 and accuracy of 0.33\n",
      "Iteration 150: with minibatch training loss = 2.6 and accuracy of 0.39\n",
      "Iteration 175: with minibatch training loss = 2.56 and accuracy of 0.44\n",
      "Iteration 200: with minibatch training loss = 2.73 and accuracy of 0.39\n",
      "Iteration 225: with minibatch training loss = 2.92 and accuracy of 0.31\n",
      "Epoch 1, Overall loss = 3.29 and accuracy of 0.247\n",
      "Epoch 1, Overall loss = 4.36 and accuracy of 0.146\n",
      "Iteration 0: with minibatch training loss = 2.9 and accuracy of 0.31\n",
      "Iteration 25: with minibatch training loss = 2.95 and accuracy of 0.23\n",
      "Iteration 50: with minibatch training loss = 2.79 and accuracy of 0.34\n",
      "Iteration 75: with minibatch training loss = 2.49 and accuracy of 0.41\n",
      "Iteration 100: with minibatch training loss = 2.97 and accuracy of 0.3\n",
      "Iteration 125: with minibatch training loss = 2.58 and accuracy of 0.42\n",
      "Iteration 150: with minibatch training loss = 2.27 and accuracy of 0.42\n",
      "Iteration 175: with minibatch training loss = 2.6 and accuracy of 0.38\n",
      "Iteration 200: with minibatch training loss = 2.71 and accuracy of 0.36\n",
      "Iteration 225: with minibatch training loss = 2.06 and accuracy of 0.52\n",
      "Epoch 1, Overall loss = 2.56 and accuracy of 0.381\n",
      "Epoch 1, Overall loss = 3.12 and accuracy of 0.31\n",
      "Iteration 0: with minibatch training loss = 2.18 and accuracy of 0.45\n",
      "Iteration 25: with minibatch training loss = 1.98 and accuracy of 0.47\n",
      "Iteration 50: with minibatch training loss = 2.38 and accuracy of 0.39\n",
      "Iteration 75: with minibatch training loss = 2.09 and accuracy of 0.47\n",
      "Iteration 100: with minibatch training loss = 1.85 and accuracy of 0.55\n",
      "Iteration 125: with minibatch training loss = 2.03 and accuracy of 0.48\n",
      "Iteration 150: with minibatch training loss = 1.66 and accuracy of 0.61\n",
      "Iteration 175: with minibatch training loss = 2.28 and accuracy of 0.42\n",
      "Iteration 200: with minibatch training loss = 2.3 and accuracy of 0.45\n",
      "Iteration 225: with minibatch training loss = 2.33 and accuracy of 0.45\n",
      "Epoch 1, Overall loss = 2.07 and accuracy of 0.482\n",
      "Epoch 1, Overall loss = 2.67 and accuracy of 0.386\n",
      "Iteration 0: with minibatch training loss = 1.62 and accuracy of 0.61\n",
      "Iteration 25: with minibatch training loss = 1.92 and accuracy of 0.47\n",
      "Iteration 50: with minibatch training loss = 1.58 and accuracy of 0.58\n",
      "Iteration 75: with minibatch training loss = 1.36 and accuracy of 0.62\n",
      "Iteration 100: with minibatch training loss = 2.16 and accuracy of 0.48\n",
      "Iteration 125: with minibatch training loss = 1.65 and accuracy of 0.58\n",
      "Iteration 150: with minibatch training loss = 1.51 and accuracy of 0.56\n",
      "Iteration 175: with minibatch training loss = 1.6 and accuracy of 0.59\n",
      "Iteration 200: with minibatch training loss = 1.46 and accuracy of 0.61\n",
      "Iteration 225: with minibatch training loss = 1.55 and accuracy of 0.61\n",
      "Epoch 1, Overall loss = 1.7 and accuracy of 0.556\n",
      "Epoch 1, Overall loss = 2.49 and accuracy of 0.418\n",
      "Iteration 0: with minibatch training loss = 1.14 and accuracy of 0.78\n",
      "Iteration 25: with minibatch training loss = 1.27 and accuracy of 0.67\n",
      "Iteration 50: with minibatch training loss = 1.5 and accuracy of 0.61\n",
      "Iteration 75: with minibatch training loss = 1.62 and accuracy of 0.56\n",
      "Iteration 100: with minibatch training loss = 1.28 and accuracy of 0.7\n",
      "Iteration 125: with minibatch training loss = 1.42 and accuracy of 0.59\n",
      "Iteration 150: with minibatch training loss = 1.53 and accuracy of 0.61\n",
      "Iteration 175: with minibatch training loss = 1.45 and accuracy of 0.61\n",
      "Iteration 200: with minibatch training loss = 1.12 and accuracy of 0.78\n",
      "Iteration 225: with minibatch training loss = 1.39 and accuracy of 0.59\n",
      "Epoch 1, Overall loss = 1.42 and accuracy of 0.618\n",
      "Epoch 1, Overall loss = 2.15 and accuracy of 0.481\n",
      "Iteration 0: with minibatch training loss = 1.02 and accuracy of 0.7\n",
      "Iteration 25: with minibatch training loss = 1.05 and accuracy of 0.75\n",
      "Iteration 50: with minibatch training loss = 1.14 and accuracy of 0.73\n",
      "Iteration 75: with minibatch training loss = 0.894 and accuracy of 0.69\n",
      "Iteration 100: with minibatch training loss = 1.18 and accuracy of 0.64\n",
      "Iteration 125: with minibatch training loss = 1.3 and accuracy of 0.66\n",
      "Iteration 150: with minibatch training loss = 0.886 and accuracy of 0.77\n",
      "Iteration 175: with minibatch training loss = 1.29 and accuracy of 0.69\n",
      "Iteration 200: with minibatch training loss = 1.08 and accuracy of 0.69\n",
      "Iteration 225: with minibatch training loss = 0.98 and accuracy of 0.73\n",
      "Epoch 1, Overall loss = 1.16 and accuracy of 0.681\n",
      "Epoch 1, Overall loss = 2.28 and accuracy of 0.476\n",
      "Iteration 0: with minibatch training loss = 0.94 and accuracy of 0.8\n",
      "Iteration 25: with minibatch training loss = 0.991 and accuracy of 0.75\n",
      "Iteration 50: with minibatch training loss = 0.839 and accuracy of 0.77\n",
      "Iteration 75: with minibatch training loss = 0.692 and accuracy of 0.81\n",
      "Iteration 100: with minibatch training loss = 0.674 and accuracy of 0.77\n",
      "Iteration 125: with minibatch training loss = 1.03 and accuracy of 0.73\n",
      "Iteration 150: with minibatch training loss = 0.984 and accuracy of 0.73\n",
      "Iteration 175: with minibatch training loss = 0.893 and accuracy of 0.67\n",
      "Iteration 200: with minibatch training loss = 1.08 and accuracy of 0.7\n",
      "Iteration 225: with minibatch training loss = 1.05 and accuracy of 0.67\n",
      "Epoch 1, Overall loss = 0.937 and accuracy of 0.734\n",
      "Epoch 1, Overall loss = 1.94 and accuracy of 0.539\n",
      "Iteration 0: with minibatch training loss = 0.622 and accuracy of 0.83\n",
      "Iteration 25: with minibatch training loss = 0.629 and accuracy of 0.88\n",
      "Iteration 50: with minibatch training loss = 0.722 and accuracy of 0.75\n",
      "Iteration 75: with minibatch training loss = 0.584 and accuracy of 0.83\n",
      "Iteration 100: with minibatch training loss = 0.555 and accuracy of 0.81\n",
      "Iteration 125: with minibatch training loss = 0.802 and accuracy of 0.78\n",
      "Iteration 150: with minibatch training loss = 0.812 and accuracy of 0.81\n",
      "Iteration 175: with minibatch training loss = 0.888 and accuracy of 0.73\n",
      "Iteration 200: with minibatch training loss = 0.548 and accuracy of 0.86\n",
      "Iteration 225: with minibatch training loss = 0.803 and accuracy of 0.77\n",
      "Epoch 1, Overall loss = 0.711 and accuracy of 0.796\n",
      "Epoch 1, Overall loss = 2.01 and accuracy of 0.526\n",
      "Iteration 0: with minibatch training loss = 0.53 and accuracy of 0.86\n",
      "Iteration 25: with minibatch training loss = 0.309 and accuracy of 0.92\n",
      "Iteration 50: with minibatch training loss = 0.528 and accuracy of 0.86\n",
      "Iteration 75: with minibatch training loss = 0.353 and accuracy of 0.91\n",
      "Iteration 100: with minibatch training loss = 0.575 and accuracy of 0.78\n",
      "Iteration 125: with minibatch training loss = 0.296 and accuracy of 0.95\n",
      "Iteration 150: with minibatch training loss = 0.376 and accuracy of 0.89\n",
      "Iteration 175: with minibatch training loss = 0.487 and accuracy of 0.84\n",
      "Iteration 200: with minibatch training loss = 0.551 and accuracy of 0.88\n",
      "Iteration 225: with minibatch training loss = 0.663 and accuracy of 0.81\n",
      "Epoch 1, Overall loss = 0.527 and accuracy of 0.846\n",
      "Epoch 1, Overall loss = 2.21 and accuracy of 0.522\n",
      "Iteration 0: with minibatch training loss = 0.337 and accuracy of 0.91\n",
      "Iteration 25: with minibatch training loss = 0.183 and accuracy of 0.95\n",
      "Iteration 50: with minibatch training loss = 0.376 and accuracy of 0.91\n",
      "Iteration 75: with minibatch training loss = 0.283 and accuracy of 0.92\n",
      "Iteration 100: with minibatch training loss = 0.261 and accuracy of 0.91\n",
      "Iteration 125: with minibatch training loss = 0.309 and accuracy of 0.92\n",
      "Iteration 150: with minibatch training loss = 0.253 and accuracy of 0.89\n",
      "Iteration 175: with minibatch training loss = 0.493 and accuracy of 0.84\n",
      "Iteration 200: with minibatch training loss = 0.483 and accuracy of 0.83\n",
      "Iteration 225: with minibatch training loss = 0.583 and accuracy of 0.86\n",
      "Epoch 1, Overall loss = 0.372 and accuracy of 0.894\n",
      "Epoch 1, Overall loss = 1.9 and accuracy of 0.6\n"
     ]
    },
    {
     "ename": "KeyboardInterrupt",
     "evalue": "",
     "output_type": "error",
     "traceback": [
      "\u001b[1;31m---------------------------------------------------------------------------\u001b[0m",
      "\u001b[1;31mKeyboardInterrupt\u001b[0m                         Traceback (most recent call last)",
      "\u001b[1;32m<ipython-input-7-42887b37844b>\u001b[0m in \u001b[0;36m<module>\u001b[1;34m()\u001b[0m\n\u001b[0;32m     12\u001b[0m                                  \u001b[0mprint_every\u001b[0m\u001b[1;33m=\u001b[0m\u001b[1;36m25\u001b[0m \u001b[1;33m,\u001b[0m\u001b[1;33m\u001b[0m\u001b[0m\n\u001b[0;32m     13\u001b[0m                                  \u001b[0mtraining\u001b[0m\u001b[1;33m=\u001b[0m\u001b[0mtrain_step\u001b[0m\u001b[1;33m,\u001b[0m\u001b[1;33m\u001b[0m\u001b[0m\n\u001b[1;32m---> 14\u001b[1;33m                                  plot_losses=False)\n\u001b[0m\u001b[0;32m     15\u001b[0m     \u001b[0mtrain_losses\u001b[0m\u001b[1;33m.\u001b[0m\u001b[0mappend\u001b[0m\u001b[1;33m(\u001b[0m\u001b[0mloss\u001b[0m\u001b[1;33m)\u001b[0m\u001b[1;33m\u001b[0m\u001b[0m\n\u001b[0;32m     16\u001b[0m     \u001b[0mtrain_acc\u001b[0m\u001b[1;33m.\u001b[0m\u001b[0mappend\u001b[0m\u001b[1;33m(\u001b[0m\u001b[0macc\u001b[0m\u001b[1;33m)\u001b[0m\u001b[1;33m\u001b[0m\u001b[0m\n",
      "\u001b[1;32m<ipython-input-5-5d2aa4f9215d>\u001b[0m in \u001b[0;36mrun_model\u001b[1;34m(session, predict, loss_val, Xd, yd, epochs, batch_size, print_every, training, plot_losses)\u001b[0m\n\u001b[0;32m     40\u001b[0m             \u001b[1;31m# have tensorflow compute loss and correct predictions\u001b[0m\u001b[1;33m\u001b[0m\u001b[1;33m\u001b[0m\u001b[0m\n\u001b[0;32m     41\u001b[0m             \u001b[1;31m# and (if given) perform a training step\u001b[0m\u001b[1;33m\u001b[0m\u001b[1;33m\u001b[0m\u001b[0m\n\u001b[1;32m---> 42\u001b[1;33m             \u001b[0mloss\u001b[0m\u001b[1;33m,\u001b[0m \u001b[0mcorr\u001b[0m\u001b[1;33m,\u001b[0m \u001b[0m_\u001b[0m \u001b[1;33m=\u001b[0m \u001b[0msession\u001b[0m\u001b[1;33m.\u001b[0m\u001b[0mrun\u001b[0m\u001b[1;33m(\u001b[0m\u001b[0mvariables\u001b[0m\u001b[1;33m,\u001b[0m\u001b[0mfeed_dict\u001b[0m\u001b[1;33m=\u001b[0m\u001b[0mfeed_dict\u001b[0m\u001b[1;33m)\u001b[0m\u001b[1;33m\u001b[0m\u001b[0m\n\u001b[0m\u001b[0;32m     43\u001b[0m \u001b[1;33m\u001b[0m\u001b[0m\n\u001b[0;32m     44\u001b[0m             \u001b[1;31m# aggregate performance stats\u001b[0m\u001b[1;33m\u001b[0m\u001b[1;33m\u001b[0m\u001b[0m\n",
      "\u001b[1;32m/home/cs231n/myVE35/lib/python3.5/site-packages/tensorflow/python/client/session.py\u001b[0m in \u001b[0;36mrun\u001b[1;34m(self, fetches, feed_dict, options, run_metadata)\u001b[0m\n\u001b[0;32m    765\u001b[0m     \u001b[1;32mtry\u001b[0m\u001b[1;33m:\u001b[0m\u001b[1;33m\u001b[0m\u001b[0m\n\u001b[0;32m    766\u001b[0m       result = self._run(None, fetches, feed_dict, options_ptr,\n\u001b[1;32m--> 767\u001b[1;33m                          run_metadata_ptr)\n\u001b[0m\u001b[0;32m    768\u001b[0m       \u001b[1;32mif\u001b[0m \u001b[0mrun_metadata\u001b[0m\u001b[1;33m:\u001b[0m\u001b[1;33m\u001b[0m\u001b[0m\n\u001b[0;32m    769\u001b[0m         \u001b[0mproto_data\u001b[0m \u001b[1;33m=\u001b[0m \u001b[0mtf_session\u001b[0m\u001b[1;33m.\u001b[0m\u001b[0mTF_GetBuffer\u001b[0m\u001b[1;33m(\u001b[0m\u001b[0mrun_metadata_ptr\u001b[0m\u001b[1;33m)\u001b[0m\u001b[1;33m\u001b[0m\u001b[0m\n",
      "\u001b[1;32m/home/cs231n/myVE35/lib/python3.5/site-packages/tensorflow/python/client/session.py\u001b[0m in \u001b[0;36m_run\u001b[1;34m(self, handle, fetches, feed_dict, options, run_metadata)\u001b[0m\n\u001b[0;32m    963\u001b[0m     \u001b[1;32mif\u001b[0m \u001b[0mfinal_fetches\u001b[0m \u001b[1;32mor\u001b[0m \u001b[0mfinal_targets\u001b[0m\u001b[1;33m:\u001b[0m\u001b[1;33m\u001b[0m\u001b[0m\n\u001b[0;32m    964\u001b[0m       results = self._do_run(handle, final_targets, final_fetches,\n\u001b[1;32m--> 965\u001b[1;33m                              feed_dict_string, options, run_metadata)\n\u001b[0m\u001b[0;32m    966\u001b[0m     \u001b[1;32melse\u001b[0m\u001b[1;33m:\u001b[0m\u001b[1;33m\u001b[0m\u001b[0m\n\u001b[0;32m    967\u001b[0m       \u001b[0mresults\u001b[0m \u001b[1;33m=\u001b[0m \u001b[1;33m[\u001b[0m\u001b[1;33m]\u001b[0m\u001b[1;33m\u001b[0m\u001b[0m\n",
      "\u001b[1;32m/home/cs231n/myVE35/lib/python3.5/site-packages/tensorflow/python/client/session.py\u001b[0m in \u001b[0;36m_do_run\u001b[1;34m(self, handle, target_list, fetch_list, feed_dict, options, run_metadata)\u001b[0m\n\u001b[0;32m   1013\u001b[0m     \u001b[1;32mif\u001b[0m \u001b[0mhandle\u001b[0m \u001b[1;32mis\u001b[0m \u001b[1;32mNone\u001b[0m\u001b[1;33m:\u001b[0m\u001b[1;33m\u001b[0m\u001b[0m\n\u001b[0;32m   1014\u001b[0m       return self._do_call(_run_fn, self._session, feed_dict, fetch_list,\n\u001b[1;32m-> 1015\u001b[1;33m                            target_list, options, run_metadata)\n\u001b[0m\u001b[0;32m   1016\u001b[0m     \u001b[1;32melse\u001b[0m\u001b[1;33m:\u001b[0m\u001b[1;33m\u001b[0m\u001b[0m\n\u001b[0;32m   1017\u001b[0m       return self._do_call(_prun_fn, self._session, handle, feed_dict,\n",
      "\u001b[1;32m/home/cs231n/myVE35/lib/python3.5/site-packages/tensorflow/python/client/session.py\u001b[0m in \u001b[0;36m_do_call\u001b[1;34m(self, fn, *args)\u001b[0m\n\u001b[0;32m   1020\u001b[0m   \u001b[1;32mdef\u001b[0m \u001b[0m_do_call\u001b[0m\u001b[1;33m(\u001b[0m\u001b[0mself\u001b[0m\u001b[1;33m,\u001b[0m \u001b[0mfn\u001b[0m\u001b[1;33m,\u001b[0m \u001b[1;33m*\u001b[0m\u001b[0margs\u001b[0m\u001b[1;33m)\u001b[0m\u001b[1;33m:\u001b[0m\u001b[1;33m\u001b[0m\u001b[0m\n\u001b[0;32m   1021\u001b[0m     \u001b[1;32mtry\u001b[0m\u001b[1;33m:\u001b[0m\u001b[1;33m\u001b[0m\u001b[0m\n\u001b[1;32m-> 1022\u001b[1;33m       \u001b[1;32mreturn\u001b[0m \u001b[0mfn\u001b[0m\u001b[1;33m(\u001b[0m\u001b[1;33m*\u001b[0m\u001b[0margs\u001b[0m\u001b[1;33m)\u001b[0m\u001b[1;33m\u001b[0m\u001b[0m\n\u001b[0m\u001b[0;32m   1023\u001b[0m     \u001b[1;32mexcept\u001b[0m \u001b[0merrors\u001b[0m\u001b[1;33m.\u001b[0m\u001b[0mOpError\u001b[0m \u001b[1;32mas\u001b[0m \u001b[0me\u001b[0m\u001b[1;33m:\u001b[0m\u001b[1;33m\u001b[0m\u001b[0m\n\u001b[0;32m   1024\u001b[0m       \u001b[0mmessage\u001b[0m \u001b[1;33m=\u001b[0m \u001b[0mcompat\u001b[0m\u001b[1;33m.\u001b[0m\u001b[0mas_text\u001b[0m\u001b[1;33m(\u001b[0m\u001b[0me\u001b[0m\u001b[1;33m.\u001b[0m\u001b[0mmessage\u001b[0m\u001b[1;33m)\u001b[0m\u001b[1;33m\u001b[0m\u001b[0m\n",
      "\u001b[1;32m/home/cs231n/myVE35/lib/python3.5/site-packages/tensorflow/python/client/session.py\u001b[0m in \u001b[0;36m_run_fn\u001b[1;34m(session, feed_dict, fetch_list, target_list, options, run_metadata)\u001b[0m\n\u001b[0;32m   1002\u001b[0m         return tf_session.TF_Run(session, options,\n\u001b[0;32m   1003\u001b[0m                                  \u001b[0mfeed_dict\u001b[0m\u001b[1;33m,\u001b[0m \u001b[0mfetch_list\u001b[0m\u001b[1;33m,\u001b[0m \u001b[0mtarget_list\u001b[0m\u001b[1;33m,\u001b[0m\u001b[1;33m\u001b[0m\u001b[0m\n\u001b[1;32m-> 1004\u001b[1;33m                                  status, run_metadata)\n\u001b[0m\u001b[0;32m   1005\u001b[0m \u001b[1;33m\u001b[0m\u001b[0m\n\u001b[0;32m   1006\u001b[0m     \u001b[1;32mdef\u001b[0m \u001b[0m_prun_fn\u001b[0m\u001b[1;33m(\u001b[0m\u001b[0msession\u001b[0m\u001b[1;33m,\u001b[0m \u001b[0mhandle\u001b[0m\u001b[1;33m,\u001b[0m \u001b[0mfeed_dict\u001b[0m\u001b[1;33m,\u001b[0m \u001b[0mfetch_list\u001b[0m\u001b[1;33m)\u001b[0m\u001b[1;33m:\u001b[0m\u001b[1;33m\u001b[0m\u001b[0m\n",
      "\u001b[1;31mKeyboardInterrupt\u001b[0m: "
     ]
    }
   ],
   "source": [
    "epochs = 15\n",
    "reg_val = 1e-1\n",
    "learning_rate = 1e-3\n",
    "for i in range(epochs):\n",
    "    loss, acc = run_model(session=sess,\n",
    "                                 predict=y_out,\n",
    "                                 loss_val=mean_loss,\n",
    "                                 Xd=X_train,\n",
    "                                 yd=y_train,\n",
    "                                 epochs=1,\n",
    "                                 batch_size=64,\n",
    "                                 print_every=25 ,\n",
    "                                 training=train_step,\n",
    "                                 plot_losses=False)\n",
    "    train_losses.append(loss)\n",
    "    train_acc.append(acc)\n",
    "    loss, acc = run_model(session=sess,\n",
    "                                 predict=y_out,\n",
    "                                 loss_val=mean_loss,\n",
    "                                 Xd=X_val,\n",
    "                                 yd=y_val,\n",
    "                                 epochs=1,\n",
    "                                 batch_size=64,\n",
    "                                 print_every=10000,\n",
    "                                 training=None,\n",
    "                                 plot_losses=False)\n",
    "    val_losses.append(loss)\n",
    "    val_acc.append(acc)"
   ]
  },
  {
   "cell_type": "code",
   "execution_count": 8,
   "metadata": {
    "collapsed": false
   },
   "outputs": [
    {
     "data": {
      "image/png": "[encoded data removed]",
      "text/plain": [
       "<matplotlib.figure.Figure at 0x7f5be84b0978>"
      ]
     },
     "metadata": {},
     "output_type": "display_data"
    },
    {
     "data": {
      "image/png": "[encoded data removed]",
      "text/plain": [
       "<matplotlib.figure.Figure at 0x7f5ba9f45898>"
      ]
     },
     "metadata": {},
     "output_type": "display_data"
    }
   ],
   "source": [
    "plt.plot(train_losses, label='Train')\n",
    "plt.plot(val_losses, label='Val')\n",
    "plt.grid(True)\n",
    "plt.title('Loss')\n",
    "plt.xlabel('Epoch')\n",
    "plt.ylabel('Loss')\n",
    "plt.legend()\n",
    "plt.show()\n",
    "\n",
    "plt.plot(train_acc, label='Train')\n",
    "plt.plot(val_acc, label='Val')\n",
    "plt.grid(True)\n",
    "plt.title('Accuracy')\n",
    "plt.xlabel('Epoch')\n",
    "plt.ylabel('Accuracy')\n",
    "plt.legend()\n",
    "plt.show()"
   ]
  },
  {
   "cell_type": "code",
   "execution_count": null,
   "metadata": {
    "collapsed": true
   },
   "outputs": [],
   "source": []
  }
 ],
 "metadata": {
  "kernelspec": {
   "display_name": "Python 3",
   "language": "python",
   "name": "python3"
  },
  "language_info": {
   "codemirror_mode": {
    "name": "ipython",
    "version": 3
   },
   "file_extension": ".py",
   "mimetype": "text/x-python",
   "name": "python",
   "nbconvert_exporter": "python",
   "pygments_lexer": "ipython3",
   "version": "3.5.2"
  }
 },
 "nbformat": 4,
 "nbformat_minor": 2
}
