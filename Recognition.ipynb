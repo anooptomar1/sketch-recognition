{
 "cells": [
  {
   "cell_type": "code",
   "execution_count": 2,
   "metadata": {
    "collapsed": true
   },
   "outputs": [],
   "source": [
    "import datautils\n",
    "import numpy as np\n",
    "import matplotlib.pyplot as plt\n",
    "import time\n",
    "import tensorflow as tf\n",
    "\n",
    "%matplotlib inline\n",
    "plt.rcParams['figure.figsize'] = (5.0, 5.0) # set default size of plots\n",
    "plt.rcParams['image.interpolation'] = 'nearest'\n",
    "plt.rcParams['image.cmap'] = 'gray'\n",
    "\n",
    "%load_ext autoreload\n",
    "%autoreload 2"
   ]
  },
  {
   "cell_type": "code",
   "execution_count": 3,
   "metadata": {},
   "outputs": [
    {
     "name": "stdout",
     "output_type": "stream",
     "text": [
      "Read 250 images in 4.843168 seconds\n",
      "(250, 256, 256, 1)\n",
      "(250,)\n"
     ]
    }
   ],
   "source": [
    "# Read in the data\n",
    "tic = time.clock()\n",
    "X_train, y_train, labels = datautils.get_data(num_classes=10, per_class=25, res=256)\n",
    "toc = time.clock()\n",
    "print \"Read {} images in {:5} seconds\".format(X_train.shape[0], toc - tic)\n",
    "print X_train.shape\n",
    "print y_train.shape"
   ]
  },
  {
   "cell_type": "code",
   "execution_count": 4,
   "metadata": {},
   "outputs": [
    {
     "data": {
      "image/png": "[encoded data removed]",
      "text/plain": [
       "<matplotlib.figure.Figure at 0x110949310>"
      ]
     },
     "metadata": {},
     "output_type": "display_data"
    },
    {
     "name": "stdout",
     "output_type": "stream",
     "text": [
      "alarm clock\n"
     ]
    }
   ],
   "source": [
    "# Plot a random image\n",
    "sample = np.random.randint(X_train.shape[0])\n",
    "plt.imshow(X_train[sample].reshape(256, 256))\n",
    "plt.show()\n",
    "print labels[y_train[sample]]"
   ]
  },
  {
   "cell_type": "code",
   "execution_count": 5,
   "metadata": {},
   "outputs": [],
   "source": [
    "def model(X, y):\n",
    "    c1 = tf.layers.conv2d(X, 16, [3, 3], padding='SAME') # 256 x 256 x 16\n",
    "    b1 = tf.layers.batch_normalization(c1)\n",
    "    h1 = tf.nn.relu(b1)\n",
    "    p1 = tf.layers.max_pooling2d(h1, [2, 2], [2, 2]) # 128 x 128 x 16\n",
    "    \n",
    "    c2 = tf.layers.conv2d(p1, 32, [3, 3], padding='SAME') # 128 x 128 x 32\n",
    "    b2 = tf.layers.batch_normalization(c2)\n",
    "    h2 = tf.nn.relu(b2)\n",
    "    p2 = tf.layers.max_pooling2d(h2, [2, 2], [2, 2]) # 64 x 64 x 32\n",
    "    \n",
    "    c3 = tf.layers.conv2d(p2, 64, [3, 3], padding = 'SAME') # 64 x 64 x 64\n",
    "    b3 = tf.layers.batch_normalization(c3)\n",
    "    h3 = tf.nn.relu(b3)\n",
    "    p3 = tf.layers.max_pooling2d(h3, [2, 2], [2, 2]) # 32 x 32 x 64\n",
    "    \n",
    "    p4 = tf.layers.average_pooling2d(p3, [32, 32], [1, 1]) # 1 x 1 x 64\n",
    "    \n",
    "    p4_flat = tf.reshape(p4, [-1, 64])\n",
    "    y_out = tf.layers.dense(p4_flat, 250)\n",
    "    \n",
    "    return y_out\n",
    "    \n",
    "tf.reset_default_graph()\n",
    "X = tf.placeholder(tf.float32, [None, 256, 256, 1])\n",
    "y = tf.placeholder(tf.int64, [None])\n",
    "\n",
    "y_out = model(X, y)\n",
    "mean_loss = tf.reduce_mean(tf.nn.softmax_cross_entropy_with_logits(labels=tf.one_hot(y,250), logits=y_out))\n",
    "optimizer = tf.train.AdamOptimizer()\n",
    "\n",
    "# batch normalization in tensorflow requires this extra dependency\n",
    "extra_update_ops = tf.get_collection(tf.GraphKeys.UPDATE_OPS)\n",
    "with tf.control_dependencies(extra_update_ops):\n",
    "    train_step = optimizer.minimize(mean_loss)"
   ]
  },
  {
   "cell_type": "code",
   "execution_count": null,
   "metadata": {},
   "outputs": [
    {
     "name": "stdout",
     "output_type": "stream",
     "text": [
      "Variables initialized\n",
      "Loss: 17.3282337189, accuracy: 0.0\n",
      "Loss: 12.0415840149, accuracy: 0.10000000149\n",
      "Loss: 8.87904548645, accuracy: 0.0\n",
      "Loss: 6.95240831375, accuracy: 0.0839999988675\n",
      "Loss: 5.76939678192, accuracy: 0.10000000149\n",
      "Loss: 4.99638414383, accuracy: 0.10000000149\n"
     ]
    }
   ],
   "source": [
    "iterations = 10\n",
    "\n",
    "with tf.Session() as sess:\n",
    "    sess.run(tf.global_variables_initializer())\n",
    "    accuracy = tf.reduce_mean(tf.cast(tf.equal(tf.argmax(y_out,1), y), tf.float32))\n",
    "    print \"Variables initialized\"\n",
    "    feed_dict = {X : X_train, y: y_train}\n",
    "    for i in range(iterations):\n",
    "        loss, acc, _ = sess.run([mean_loss, accuracy, train_step], feed_dict=feed_dict)\n",
    "        print \"Loss: {}, accuracy: {}\".format(loss, acc)"
   ]
  },
  {
   "cell_type": "code",
   "execution_count": null,
   "metadata": {
    "collapsed": true
   },
   "outputs": [],
   "source": []
  }
 ],
 "metadata": {
  "kernelspec": {
   "display_name": "Python 2",
   "language": "python",
   "name": "python2"
  }
 },
 "nbformat": 4,
 "nbformat_minor": 2
}
